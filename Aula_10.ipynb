{
  "nbformat": 4,
  "nbformat_minor": 0,
  "metadata": {
    "colab": {
      "name": "Aula-10.ipynb",
      "version": "0.3.2",
      "provenance": [],
      "collapsed_sections": []
    },
    "kernelspec": {
      "display_name": "Python 3",
      "language": "python",
      "name": "python3"
    }
  },
  "cells": [
    {
      "metadata": {
        "id": "7F8w49vB7sT0",
        "colab_type": "code",
        "colab": {}
      },
      "cell_type": "code",
      "source": [
        "import numpy as np\n",
        "import pandas as pd\n",
        "\n",
        "import matplotlib.pyplot as plt\n",
        "\n",
        "import tensorflow as tf\n",
        "from tensorflow import keras\n",
        "\n",
        "from sklearn.datasets.samples_generator import make_regression\n",
        "from sklearn.model_selection import train_test_split\n",
        "from sklearn.preprocessing import StandardScaler"
      ],
      "execution_count": 0,
      "outputs": []
    },
    {
      "metadata": {
        "id": "iIW86R6n5VcS",
        "colab_type": "text"
      },
      "cell_type": "markdown",
      "source": [
        "# Classificação com NN\n",
        "\n",
        "Com aquilo que aprendemos, vamos tentar resolver um problema de classificação binária. Veja como é simples apenas modificando um pouco a estrutura de nossa rede."
      ]
    },
    {
      "metadata": {
        "id": "z1tkxyxr8AC7",
        "colab_type": "code",
        "colab": {}
      },
      "cell_type": "code",
      "source": [
        "from sklearn.datasets import make_classification"
      ],
      "execution_count": 0,
      "outputs": []
    },
    {
      "metadata": {
        "id": "D3rMv-VN8GF5",
        "colab_type": "code",
        "colab": {}
      },
      "cell_type": "code",
      "source": [
        "X, y = make_classification(n_samples = 100000)"
      ],
      "execution_count": 0,
      "outputs": []
    },
    {
      "metadata": {
        "id": "Xo4urCsr8JVk",
        "colab_type": "code",
        "colab": {}
      },
      "cell_type": "code",
      "source": [
        "X[0]"
      ],
      "execution_count": 0,
      "outputs": []
    },
    {
      "metadata": {
        "id": "Fh4RMRVd88y2",
        "colab_type": "code",
        "colab": {}
      },
      "cell_type": "code",
      "source": [
        "y[0]"
      ],
      "execution_count": 0,
      "outputs": []
    },
    {
      "metadata": {
        "id": "Rh3KN6pF9G4h",
        "colab_type": "code",
        "colab": {}
      },
      "cell_type": "code",
      "source": [
        "X_train, X_test, y_train, y_test = train_test_split(X, y, test_size = .5)"
      ],
      "execution_count": 0,
      "outputs": []
    },
    {
      "metadata": {
        "id": "r9BLYmxW9HPd",
        "colab_type": "code",
        "colab": {}
      },
      "cell_type": "code",
      "source": [
        "X_scaler = StandardScaler()\n",
        "X_train = X_scaler.fit_transform(X_train)\n",
        "X_test = X_scaler.transform(X_test)"
      ],
      "execution_count": 0,
      "outputs": []
    },
    {
      "metadata": {
        "id": "Qa9DZA5-9bXV",
        "colab_type": "code",
        "colab": {}
      },
      "cell_type": "code",
      "source": [
        "X_train[0]"
      ],
      "execution_count": 0,
      "outputs": []
    },
    {
      "metadata": {
        "id": "XwcBMy_1-XX8",
        "colab_type": "text"
      },
      "cell_type": "markdown",
      "source": [
        "Vamos criar nossa função `build_model` verifique que agora temos um problema de classificação binário, sendo assim, iremos utilizar como função de loss a `binary_crossentropy`."
      ]
    },
    {
      "metadata": {
        "id": "FrVE4GF---z7",
        "colab_type": "code",
        "colab": {}
      },
      "cell_type": "code",
      "source": [
        "def build_model():\n",
        "    model = keras.Sequential()\n",
        "    model.add(keras.layers.Dense(20, input_dim = 20, activation=tf.nn.relu))\n",
        "    model.add(keras.layers.Dense(40, activation=tf.nn.relu))\n",
        "    model.add(keras.layers.Dense(1, activation=tf.nn.sigmoid))\n",
        "\n",
        "    model.compile(loss='binary_crossentropy', optimizer='adam', metrics=['accuracy'])\n",
        "    \n",
        "    return model"
      ],
      "execution_count": 0,
      "outputs": []
    },
    {
      "metadata": {
        "id": "ZSg8k-GxCvPO",
        "colab_type": "text"
      },
      "cell_type": "markdown",
      "source": [
        "Verifique que modificamos também nossa função de otimização e métrica. Para entender melhor como o algoritmo de otimização \"adam\" funciona, veja o seguinte [artigo](https://machinelearningmastery.com/adam-optimization-algorithm-for-deep-learning/)."
      ]
    },
    {
      "metadata": {
        "id": "E3JK7QyjBKME",
        "colab_type": "text"
      },
      "cell_type": "markdown",
      "source": [
        "Vamos modificar nossa função para plotar os gráficos"
      ]
    },
    {
      "metadata": {
        "id": "rzEsJ-5vBOWc",
        "colab_type": "code",
        "colab": {}
      },
      "cell_type": "code",
      "source": [
        "def plot_history(history):\n",
        "  plt.figure(figsize = (15, 10))\n",
        "  plt.xlabel('Epoch')\n",
        "  plt.ylabel('Accuracy')\n",
        "  plt.plot(history.epoch, np.array(history.history['acc']), label='Train Loss')\n",
        "  plt.plot(history.epoch, np.array(history.history['val_acc']), label = 'Val loss')\n",
        "  plt.legend()"
      ],
      "execution_count": 0,
      "outputs": []
    },
    {
      "metadata": {
        "id": "yktJVASA_4jc",
        "colab_type": "code",
        "colab": {}
      },
      "cell_type": "code",
      "source": [
        "model = build_model()\n",
        "\n",
        "history = model.fit(X_train, y_train, epochs = 5, validation_split = 0.2, verbose = False)"
      ],
      "execution_count": 0,
      "outputs": []
    },
    {
      "metadata": {
        "id": "oFen-axRAJvW",
        "colab_type": "code",
        "colab": {}
      },
      "cell_type": "code",
      "source": [
        "[loss, acc] = model.evaluate(X_test, y_test)\n",
        "\n",
        "print(\"Acc: {:.4f}\".format(acc))"
      ],
      "execution_count": 0,
      "outputs": []
    },
    {
      "metadata": {
        "id": "MOibRRZ3MLuZ",
        "colab_type": "code",
        "colab": {}
      },
      "cell_type": "code",
      "source": [
        "import seaborn as sns\n",
        "from sklearn.metrics import accuracy_score, f1_score, precision_score, recall_score, confusion_matrix, roc_curve, auc"
      ],
      "execution_count": 0,
      "outputs": []
    },
    {
      "metadata": {
        "id": "_O37_RoM_V2g",
        "colab_type": "text"
      },
      "cell_type": "markdown",
      "source": [
        "Podemos plotar nossa matriz de confusão:"
      ]
    },
    {
      "metadata": {
        "id": "AJHdQyJqNhdR",
        "colab_type": "code",
        "colab": {}
      },
      "cell_type": "code",
      "source": [
        "test_preds = model.predict(X_test).flatten()\n",
        "test_preds_bin = (test_preds > 0.5)\n",
        "test_preds_bin"
      ],
      "execution_count": 0,
      "outputs": []
    },
    {
      "metadata": {
        "id": "hSIWc1ycNDGU",
        "colab_type": "code",
        "colab": {}
      },
      "cell_type": "code",
      "source": [
        ""
      ],
      "execution_count": 0,
      "outputs": []
    },
    {
      "metadata": {
        "id": "t0wTyaGJPwWw",
        "colab_type": "text"
      },
      "cell_type": "markdown",
      "source": [
        "## Curva ROC\n",
        "\n",
        "A Curva de operação do receptor (*Receiver Operationg Characteristic*)  é uma representação gráfica que ilustra o desempenho (ou performance) de um sistema classificador binário e como o seu limiar de discriminação é variado. [Wikipedia](https://pt.wikipedia.org/wiki/Caracter%C3%ADstica_de_Opera%C3%A7%C3%A3o_do_Receptor)\n",
        "\n",
        " ![PIC6](https://ncss-wpengine.netdna-ssl.com/wp-content/uploads/2016/06/ROC-Curves-Empirical-19.png)"
      ]
    },
    {
      "metadata": {
        "id": "58gomEGBTiu0",
        "colab_type": "text"
      },
      "cell_type": "markdown",
      "source": [
        "#### Sensitivity\n",
        "\n",
        "Também chamada de *true positive rate*, *recall* ou *probabilidade de detecção*. Mede a proporção de positivos realmente detectados como positivos.\n",
        "\n",
        "$$\n",
        "TPR = \\frac{TP}{TP + FN}\n",
        "$$\n",
        "\n",
        "#### Specificity\n",
        "\n",
        "Também chamada de *true negative rate*, mede a proporção de negativos realmente detectados como negativos.\n",
        "\n",
        "$$\n",
        "TNR = \\frac{TN}{TN + FP}\n",
        "$$"
      ]
    },
    {
      "metadata": {
        "id": "uRoJXeErPvLh",
        "colab_type": "code",
        "colab": {}
      },
      "cell_type": "code",
      "source": [
        "YouTubeVideo('21Igj5Pr6u4', width = 720, height = 560)"
      ],
      "execution_count": 0,
      "outputs": []
    },
    {
      "metadata": {
        "id": "akRPphWxUwmj",
        "colab_type": "text"
      },
      "cell_type": "markdown",
      "source": [
        "Obtendo os valores:"
      ]
    },
    {
      "metadata": {
        "id": "dUu8Jbi9OCdM",
        "colab_type": "code",
        "colab": {}
      },
      "cell_type": "code",
      "source": [
        "fpr, tpr, thresholds = roc_curve(y_test, test_preds)\n",
        "auc_calc = auc(fpr, tpr)"
      ],
      "execution_count": 0,
      "outputs": []
    },
    {
      "metadata": {
        "id": "93XMrXZYVpb7",
        "colab_type": "code",
        "colab": {}
      },
      "cell_type": "code",
      "source": [
        ""
      ],
      "execution_count": 0,
      "outputs": []
    },
    {
      "metadata": {
        "id": "M-e6cElBBUUD",
        "colab_type": "text"
      },
      "cell_type": "markdown",
      "source": [
        "## Desafio\n",
        "\n",
        "Utilize o dataset fornecido a tente criar um modelo capaz de classificar os dados não conhecidos pela coluna diagnóstico."
      ]
    },
    {
      "metadata": {
        "id": "HCY7FdGhB4vo",
        "colab_type": "code",
        "colab": {}
      },
      "cell_type": "code",
      "source": [
        "df = pd.read_csv('https://github.com/pgiaeinstein/aula-09/raw/master/df_map.csv')"
      ],
      "execution_count": 0,
      "outputs": []
    },
    {
      "metadata": {
        "id": "LBt5LzOeCGXQ",
        "colab_type": "code",
        "colab": {}
      },
      "cell_type": "code",
      "source": [
        "X = df.iloc[:, 1:].values\n",
        "y = df.iloc[:, 0].values"
      ],
      "execution_count": 0,
      "outputs": []
    },
    {
      "metadata": {
        "id": "HfqErYxoCLbD",
        "colab_type": "code",
        "colab": {}
      },
      "cell_type": "code",
      "source": [
        "notebook_seed = 42\n",
        "\n",
        "X_train, X_test, y_train, y_test = train_test_split(X, y, test_size = 0.1, random_state = notebook_seed)\n",
        "\n",
        "scaler = StandardScaler()\n",
        "\n",
        "X_train = scaler.fit_transform(X_train)\n",
        "X_test = scaler.transform(X_test)"
      ],
      "execution_count": 0,
      "outputs": []
    },
    {
      "metadata": {
        "id": "2GRxtSs7whfK",
        "colab_type": "text"
      },
      "cell_type": "markdown",
      "source": [
        "# Trabalhando com arquivos DICOM\n",
        "\n",
        "## O que é DICOM?\n",
        "\n",
        "- DICOM - Digital Imaging and Communications in Medicine;\n",
        "\n",
        "- Conjunto de normas para tratamento, armazenamento e transmissão de informação médica (PROTOCOLO);\n",
        " - Padroniza a formatação das imagens diagnósticas como tomografias, ressonâncias magnéticas, radiografias, ultrassonografias, etc...;\n",
        "  - Permite que imagens médicas e informações associadas sejam trocadas entre equipamentos de diagnóstico geradores de imagens, computadores e hospitais, ou seja, estabelece uma linguagem comum entre os equipamentos de diferentes marcas.\n",
        "\n",
        "[Wikipedia](https://pt.wikipedia.org/wiki/DICOM)"
      ]
    },
    {
      "metadata": {
        "id": "BPKWuCjuzZ0l",
        "colab_type": "text"
      },
      "cell_type": "markdown",
      "source": [
        "## Protocolo?\n",
        "\n",
        "- Convenção que controla e possibilita uma conexão, comunicação, transferência de dados entre dois sistemas computacionais.\n",
        "\n",
        "- Define regras de sintaxe, semântica e sincronização da comunicação.\n",
        "\n",
        "---\n",
        "\n",
        "| Protocolo | Descrição |\n",
        "|--|--|\n",
        "| IP | [Internet Protocol](https://pt.wikipedia.org/wiki/Internet_Protocol \"Internet Protocol\") |\n",
        "| HTTP | [Hypertext Transfer Protocol](https://pt.wikipedia.org/wiki/HTTP \"HTTP\") |\n",
        "| POP3 | [Post Office Protocol](https://pt.wikipedia.org/wiki/Post_Office_Protocol \"Post Office Protocol\") |\n",
        "| SMTP | [Simple Mail Transfer Protocol](https://pt.wikipedia.org/wiki/Simple_Mail_Transfer_Protocol \"Simple Mail Transfer Protocol\") |\n"
      ]
    },
    {
      "metadata": {
        "id": "Hi2gErwm2kx7",
        "colab_type": "text"
      },
      "cell_type": "markdown",
      "source": [
        "## PyDICOM"
      ]
    },
    {
      "metadata": {
        "id": "Ejo1XQc49qfU",
        "colab_type": "code",
        "colab": {}
      },
      "cell_type": "code",
      "source": [
        "!wget \"https://github.com/pgiaeinstein/aula-09/raw/master/img1.dcm\"\n",
        "!wget \"https://github.com/pgiaeinstein/aula-09/raw/master/img2.dcm\""
      ],
      "execution_count": 0,
      "outputs": []
    },
    {
      "metadata": {
        "id": "528U4dMC3NUO",
        "colab_type": "code",
        "colab": {}
      },
      "cell_type": "code",
      "source": [
        "# É necessário instalar o pacote pydicom pelo gerenciador de pacotes pip\n",
        "!pip install pydicom"
      ],
      "execution_count": 0,
      "outputs": []
    },
    {
      "metadata": {
        "id": "eH5vxT9w2kHY",
        "colab_type": "code",
        "colab": {}
      },
      "cell_type": "code",
      "source": [
        "# Após isso, podemos importar o pacote\n",
        "import pydicom\n",
        "import pylab"
      ],
      "execution_count": 0,
      "outputs": []
    },
    {
      "metadata": {
        "id": "cNuZGTj82f2N",
        "colab_type": "code",
        "colab": {}
      },
      "cell_type": "code",
      "source": [
        "dcmdata = pydicom.read_file('./img1.dcm')\n",
        "print(dcmdata)"
      ],
      "execution_count": 0,
      "outputs": []
    },
    {
      "metadata": {
        "id": "FaofMvxVbwnB",
        "colab_type": "code",
        "colab": {}
      },
      "cell_type": "code",
      "source": [
        "dcmimg = dcmdata.pixel_array\n",
        "print(dcmimg.dtype)\n",
        "print(dcmimg.shape)"
      ],
      "execution_count": 0,
      "outputs": []
    },
    {
      "metadata": {
        "id": "Uo8BULvnbywx",
        "colab_type": "code",
        "colab": {}
      },
      "cell_type": "code",
      "source": [
        "plt.figure(figsize=(20,10))\n",
        "plt.imshow(dcmimg, cmap=pylab.cm.binary)\n",
        "plt.axis('off')"
      ],
      "execution_count": 0,
      "outputs": []
    },
    {
      "metadata": {
        "id": "pJ0vLl5r-Wtg",
        "colab_type": "text"
      },
      "cell_type": "markdown",
      "source": [
        "## Desafio\n",
        "\n",
        "Repita o processo acima para o arquivo img2.dcm"
      ]
    }
  ]
}